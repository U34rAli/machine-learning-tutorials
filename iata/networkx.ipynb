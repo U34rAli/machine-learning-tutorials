{
 "cells": [
  {
   "cell_type": "code",
   "execution_count": 14,
   "metadata": {},
   "outputs": [],
   "source": [
    "import requests\n",
    "import networkx as nx\n",
    "import pandas as pd\n",
    "import numpy as np\n",
    "import geopy.distance\n",
    "import matplotlib.pyplot as plt"
   ]
  },
  {
   "cell_type": "code",
   "execution_count": 15,
   "metadata": {},
   "outputs": [],
   "source": [
    "def load_txt_file(file_name, columns, delimiter):\n",
    "    data = pd.read_csv(file_name , delimiter=delimiter, names= columns)\n",
    "    return data"
   ]
  },
  {
   "cell_type": "code",
   "execution_count": 16,
   "metadata": {},
   "outputs": [],
   "source": [
    "columns = ['Airline', 'Airline ID', 'Source airport', 'Source airport ID', 'Destination airport'\n",
    "           , 'Destination airport ID', 'Codeshare', 'Stops', 'Equipment']\n",
    "airports_data = ['Airport ID', 'Name', 'City', 'Country', 'IATA', 'ICAO', 'Latitude', 'Longitude'\n",
    "                 , 'Altitude', 'Timezone', 'DST', 'Tz Database time', 'Type', 'Source']\n",
    "data = load_txt_file('routes.dat.txt', columns, delimiter=',')\n",
    "lng_lot_data = load_txt_file('airports.dat.txt', airports_data, delimiter=',')"
   ]
  },
  {
   "cell_type": "code",
   "execution_count": 17,
   "metadata": {},
   "outputs": [],
   "source": [
    "iata_hash = {}\n",
    "# load all IATA code latitude and longitudes, IATA code as KEY\n",
    "for index, row in lng_lot_data.iterrows():\n",
    "    iata_hash[row[\"IATA\"]] = {'Longitude':row['Longitude'], 'Latitude':row['Latitude']} \n",
    "def g_lg(key):\n",
    "    hash_iata = iata_hash.get(key)\n",
    "    return hash_iata['Latitude'], hash_iata['Longitude']"
   ]
  },
  {
   "cell_type": "code",
   "execution_count": 18,
   "metadata": {},
   "outputs": [
    {
     "name": "stderr",
     "output_type": "stream",
     "text": [
      "/home/muhammadumar/anaconda3/envs/ml_env/lib/python3.6/site-packages/ipykernel_launcher.py:6: DeprecationWarning: Vincenty is deprecated and is going to be removed in geopy 2.0. Use `geopy.distance.geodesic` (or the default `geopy.distance.distance`) instead, which is more accurate and always converges.\n",
      "  \n"
     ]
    }
   ],
   "source": [
    "G = nx.DiGraph()\n",
    "\n",
    "# create a list from source airport to destination airports\n",
    "graph_data_iata = [i for i in zip(data['Source airport'].tolist(), data['Destination airport'].tolist())]\n",
    "# compute distance from source airports to destincation airports\n",
    "graph_data = [( g_data[0],g_data[1], geopy.distance.vincenty(g_lg(g_data[0]), g_lg(g_data[1])).km ) for g_data in graph_data_iata if (g_data[1] in iata_hash and g_data[0]) in iata_hash]\n",
    "\n",
    "# add list of tumples with weight into the graph\n",
    "G.add_weighted_edges_from(graph_data)"
   ]
  },
  {
   "cell_type": "code",
   "execution_count": 30,
   "metadata": {},
   "outputs": [],
   "source": [
    "src = 'KHI'\n",
    "target = 'WUH'\n",
    "# get all paths from source to destination with minimum edges = 2\n",
    "simplest_path = [p for p in nx.all_simple_paths(G,source=src, target=target, cutoff=2)]"
   ]
  },
  {
   "cell_type": "code",
   "execution_count": 31,
   "metadata": {},
   "outputs": [],
   "source": [
    "short_paths = dict()\n",
    "for path in simplest_path:\n",
    "    if len(path) > 2:\n",
    "        short_paths[path[1]] = G.get_edge_data(path[0], path[1])['weight'] + G.get_edge_data(path[1], path[2])['weight']\n",
    "\n",
    "min_val = max([short_paths.get(i) for i in short_paths])\n",
    "key = \"\"\n",
    "for i in short_paths:\n",
    "    if short_paths.get(i) <= min_val:\n",
    "        min_val = short_paths.get(i)\n",
    "        key = i   "
   ]
  },
  {
   "cell_type": "code",
   "execution_count": 32,
   "metadata": {},
   "outputs": [
    {
     "name": "stdout",
     "output_type": "stream",
     "text": [
      "KHI -> CTU -> WUH\n",
      "Distance =  4647.689253591717\n"
     ]
    }
   ],
   "source": [
    "print(src , '->', key, '->', target)\n",
    "print('Distance = ', min_val)"
   ]
  },
  {
   "cell_type": "code",
   "execution_count": 33,
   "metadata": {},
   "outputs": [
    {
     "data": {
      "text/html": [
       "<div>\n",
       "<style scoped>\n",
       "    .dataframe tbody tr th:only-of-type {\n",
       "        vertical-align: middle;\n",
       "    }\n",
       "\n",
       "    .dataframe tbody tr th {\n",
       "        vertical-align: top;\n",
       "    }\n",
       "\n",
       "    .dataframe thead th {\n",
       "        text-align: right;\n",
       "    }\n",
       "</style>\n",
       "<table border=\"1\" class=\"dataframe\">\n",
       "  <thead>\n",
       "    <tr style=\"text-align: right;\">\n",
       "      <th></th>\n",
       "      <th>Airport ID</th>\n",
       "      <th>Name</th>\n",
       "      <th>City</th>\n",
       "      <th>Country</th>\n",
       "      <th>IATA</th>\n",
       "      <th>ICAO</th>\n",
       "      <th>Latitude</th>\n",
       "      <th>Longitude</th>\n",
       "      <th>Altitude</th>\n",
       "      <th>Timezone</th>\n",
       "      <th>DST</th>\n",
       "      <th>Tz Database time</th>\n",
       "      <th>Type</th>\n",
       "      <th>Source</th>\n",
       "    </tr>\n",
       "  </thead>\n",
       "  <tbody>\n",
       "    <tr>\n",
       "      <th>3199</th>\n",
       "      <td>3395</td>\n",
       "      <td>Chengdu Shuangliu International Airport</td>\n",
       "      <td>Chengdu</td>\n",
       "      <td>China</td>\n",
       "      <td>CTU</td>\n",
       "      <td>ZUUU</td>\n",
       "      <td>30.578501</td>\n",
       "      <td>103.946999</td>\n",
       "      <td>1625</td>\n",
       "      <td>8</td>\n",
       "      <td>U</td>\n",
       "      <td>Asia/Shanghai</td>\n",
       "      <td>airport</td>\n",
       "      <td>OurAirports</td>\n",
       "    </tr>\n",
       "  </tbody>\n",
       "</table>\n",
       "</div>"
      ],
      "text/plain": [
       "      Airport ID                                     Name     City Country  \\\n",
       "3199        3395  Chengdu Shuangliu International Airport  Chengdu   China   \n",
       "\n",
       "     IATA  ICAO   Latitude   Longitude  Altitude Timezone DST  \\\n",
       "3199  CTU  ZUUU  30.578501  103.946999      1625        8   U   \n",
       "\n",
       "     Tz Database time     Type       Source  \n",
       "3199    Asia/Shanghai  airport  OurAirports  "
      ]
     },
     "execution_count": 33,
     "metadata": {},
     "output_type": "execute_result"
    }
   ],
   "source": [
    "lng_lot_data[lng_lot_data['IATA'] == 'CTU']"
   ]
  },
  {
   "cell_type": "code",
   "execution_count": null,
   "metadata": {},
   "outputs": [],
   "source": []
  }
 ],
 "metadata": {
  "kernelspec": {
   "display_name": "Python 3",
   "language": "python",
   "name": "python3"
  },
  "language_info": {
   "codemirror_mode": {
    "name": "ipython",
    "version": 3
   },
   "file_extension": ".py",
   "mimetype": "text/x-python",
   "name": "python",
   "nbconvert_exporter": "python",
   "pygments_lexer": "ipython3",
   "version": "3.6.10"
  }
 },
 "nbformat": 4,
 "nbformat_minor": 4
}

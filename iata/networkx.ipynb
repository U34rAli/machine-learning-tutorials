{
 "cells": [
  {
   "cell_type": "code",
   "execution_count": 172,
   "metadata": {},
   "outputs": [],
   "source": [
    "import requests\n",
    "import networkx as nx\n",
    "import pandas as pd\n",
    "import numpy as np\n",
    "import geopy.distance\n",
    "import matplotlib.pyplot as plt"
   ]
  },
  {
   "cell_type": "code",
   "execution_count": 173,
   "metadata": {},
   "outputs": [],
   "source": [
    "def load_txt_file(file_name, columns, delimiter):\n",
    "    data = pd.read_csv(file_name , delimiter=delimiter, names= columns)\n",
    "    return data"
   ]
  },
  {
   "cell_type": "code",
   "execution_count": 174,
   "metadata": {},
   "outputs": [],
   "source": [
    "columns = ['Airline', 'Airline ID', 'Source airport', 'Source airport ID', 'Destination airport'\n",
    "           , 'Destination airport ID', 'Codeshare', 'Stops', 'Equipment']\n",
    "airports_data = ['Airport ID', 'Name', 'City', 'Country', 'IATA', 'ICAO', 'Latitude', 'Longitude'\n",
    "                 , 'Altitude', 'Timezone', 'DST', 'Tz Database time', 'Type', 'Source']\n",
    "data = load_txt_file('routes.dat.txt', columns, delimiter=',')\n",
    "lng_lot_data = load_txt_file('airports.dat.txt', airports_data, delimiter=',')\n",
    "data  = data.dropna()"
   ]
  },
  {
   "cell_type": "code",
   "execution_count": 175,
   "metadata": {},
   "outputs": [],
   "source": [
    "iata_hash = {}\n",
    "for index, row in lng_lot_data.iterrows():\n",
    "    iata_hash[row[\"IATA\"]] = {'Longitude':row['Longitude'], 'Latitude':row['Latitude']} \n",
    "def g_lg(key):\n",
    "    if key in iata_hash:\n",
    "        hash_iata = iata_hash.get(key)\n",
    "        return hash_iata['Latitude'], hash_iata['Longitude']\n",
    "    return (0,0)"
   ]
  },
  {
   "cell_type": "code",
   "execution_count": 176,
   "metadata": {},
   "outputs": [
    {
     "name": "stderr",
     "output_type": "stream",
     "text": [
      "/home/muhammadumar/anaconda3/envs/ml_env/lib/python3.6/site-packages/ipykernel_launcher.py:3: DeprecationWarning: Vincenty is deprecated and is going to be removed in geopy 2.0. Use `geopy.distance.geodesic` (or the default `geopy.distance.distance`) instead, which is more accurate and always converges.\n",
      "  This is separate from the ipykernel package so we can avoid doing imports until\n"
     ]
    }
   ],
   "source": [
    "G = nx.DiGraph()\n",
    "graph_data = [i for i in zip(data['Source airport'].tolist(), data['Destination airport'].tolist())]\n",
    "graph_data = [( g_data[0],g_data[1], geopy.distance.vincenty(g_lg(g_data[0]), g_lg(g_data[1])).km ) for g_data in graph_data]\n",
    "G.add_weighted_edges_from(graph_data)"
   ]
  },
  {
   "cell_type": "code",
   "execution_count": 183,
   "metadata": {},
   "outputs": [
    {
     "name": "stdout",
     "output_type": "stream",
     "text": [
      "Path =  ['LHR', 'EWR', 'CLT']\n",
      "Distance =  6427.121672839762 KM\n"
     ]
    }
   ],
   "source": [
    "weight = nx.dijkstra_path_length(G, 'LHR', 'CLT')\n",
    "paths = nx.dijkstra_path(G, 'LHR', 'CLT')\n",
    "print(\"Path = \", paths)\n",
    "print(\"Distance = \", weight, \"KM\")"
   ]
  }
 ],
 "metadata": {
  "kernelspec": {
   "display_name": "Python 3",
   "language": "python",
   "name": "python3"
  },
  "language_info": {
   "codemirror_mode": {
    "name": "ipython",
    "version": 3
   },
   "file_extension": ".py",
   "mimetype": "text/x-python",
   "name": "python",
   "nbconvert_exporter": "python",
   "pygments_lexer": "ipython3",
   "version": "3.6.10"
  }
 },
 "nbformat": 4,
 "nbformat_minor": 4
}

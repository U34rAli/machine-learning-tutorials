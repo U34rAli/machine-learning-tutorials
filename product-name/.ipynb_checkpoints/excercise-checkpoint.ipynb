{
 "cells": [
  {
   "cell_type": "code",
   "execution_count": 248,
   "metadata": {},
   "outputs": [],
   "source": [
    "import numpy as np\n",
    "import pandas as pd\n",
    "import seaborn as sns\n",
    "from sklearn.model_selection import train_test_split\n",
    "from sklearn.neighbors import KNeighborsClassifier\n",
    "from sklearn.metrics import classification_report, accuracy_score\n",
    "from sklearn.preprocessing import OneHotEncoder, LabelEncoder\n",
    "from sklearn import preprocessing\n",
    "from numpy import unique\n",
    "import matplotlib.pyplot as pt\n",
    "import imblearn"
   ]
  },
  {
   "cell_type": "code",
   "execution_count": 588,
   "metadata": {},
   "outputs": [
    {
     "name": "stderr",
     "output_type": "stream",
     "text": [
      "/home/muhammadumar/anaconda3/envs/ml_env/lib/python3.6/site-packages/IPython/core/interactiveshell.py:3063: DtypeWarning: Columns (9) have mixed types.Specify dtype option on import or set low_memory=False.\n",
      "  interactivity=interactivity, compiler=compiler, result=result)\n"
     ]
    }
   ],
   "source": [
    "data = pd.read_csv('training_data_raw.csv')\n",
    "use_hot_encoding = True # False == LabelEncoding"
   ]
  },
  {
   "cell_type": "code",
   "execution_count": 589,
   "metadata": {},
   "outputs": [],
   "source": [
    "def isnumber(x):\n",
    "    try:\n",
    "        float(x)\n",
    "        return x\n",
    "    except:\n",
    "        return 0"
   ]
  },
  {
   "cell_type": "code",
   "execution_count": 590,
   "metadata": {},
   "outputs": [],
   "source": [
    "d_columns = ['Agency', 'Policy Service Status', 'Admin System', 'Line of Business', 'Product Group'\n",
    "    , 'Product Type', 'Policy Age', 'Annualized Billed Premium', 'Face Amount', 'DI Benefit Amount'\n",
    "    , 'Initial LTC Benefit Amount', 'Daily LTC Benefit Amount', 'Fund Balance', 'Insureds Customer Status'\n",
    "    , 'Insureds Death Status', 'Insureds Age', 'Insureds Gender', 'Owners Customer Status', 'Owners Death Status'\n",
    "    , 'Owners Age', 'Owners Gender', 'Owner\\'s Income', 'Product Name']\n",
    "encode_columns = ['Agency', 'Policy Service Status', 'Policy Service Status', 'Admin System', 'Line of Business'\n",
    "                  , 'Product Group','Product Type', 'Product Name', 'Issue Date', 'Insureds Customer Status'\n",
    "                  , 'Insureds Death Status', 'Insureds Gender', 'Insureds City', 'Insureds State'\n",
    "                  , 'Owners Customer Status', 'Owners Death Status', 'Owners Gender']"
   ]
  },
  {
   "cell_type": "code",
   "execution_count": 591,
   "metadata": {},
   "outputs": [],
   "source": [
    "replace_dollar_sign = ['Annualized Billed Premium', 'Face Amount', 'DI Benefit Amount', 'Policy Age'\n",
    "                       , 'Insured\\'s Income', 'Owner\\'s Income', 'Owners Age'\n",
    "                       , 'Initial LTC Benefit Amount', 'Daily LTC Benefit Amount', 'Fund Balance']\n",
    "# Replace $ and , from the columns mentioned above\n",
    "for col in replace_dollar_sign:\n",
    "    data[col].replace(regex=True, inplace=True, to_replace=r'[^0-9.\\-]', value=r'')\n",
    "    data[col] = data[col].map(isnumber)\n",
    "    data[col] = data[col].astype(float)"
   ]
  },
  {
   "cell_type": "code",
   "execution_count": 592,
   "metadata": {},
   "outputs": [
    {
     "name": "stdout",
     "output_type": "stream",
     "text": [
      "Agency\n",
      "Unique =  2\n",
      "Type =  float64\n",
      "-------------------------\n",
      "Policy Number\n",
      "Unique =  50609\n",
      "Type =  object\n",
      "-------------------------\n",
      "Policy Service Status\n",
      "Unique =  4\n",
      "Type =  object\n",
      "-------------------------\n",
      "Admin System\n",
      "Unique =  17\n",
      "Type =  object\n",
      "-------------------------\n",
      "Line of Business\n",
      "Unique =  5\n",
      "Type =  object\n",
      "-------------------------\n",
      "Product Group\n",
      "Unique =  13\n",
      "Type =  object\n",
      "-------------------------\n",
      "Product Name\n",
      "Unique =  33\n",
      "Type =  object\n",
      "-------------------------\n",
      "Product Type\n",
      "Unique =  173\n",
      "Type =  object\n",
      "-------------------------\n",
      "Issue Date\n",
      "Unique =  13898\n",
      "Type =  object\n",
      "-------------------------\n",
      "Policy Age\n",
      "Unique =  767\n",
      "Type =  float64\n",
      "-------------------------\n",
      "Annualized Billed Premium\n",
      "Unique =  7654\n",
      "Type =  float64\n",
      "-------------------------\n",
      "Face Amount\n",
      "Unique =  7797\n",
      "Type =  float64\n",
      "-------------------------\n",
      "DI Benefit Amount\n",
      "Unique =  1089\n",
      "Type =  float64\n",
      "-------------------------\n",
      "Initial LTC Benefit Amount\n",
      "Unique =  33\n",
      "Type =  float64\n",
      "-------------------------\n",
      "Daily LTC Benefit Amount\n",
      "Unique =  30\n",
      "Type =  float64\n",
      "-------------------------\n",
      "Fund Balance\n",
      "Unique =  3001\n",
      "Type =  float64\n",
      "-------------------------\n",
      "Policy Status\n",
      "Unique =  1\n",
      "Type =  object\n",
      "-------------------------\n",
      "Insureds Customer Status\n",
      "Unique =  4\n",
      "Type =  object\n",
      "-------------------------\n",
      "Insureds Death Status\n",
      "Unique =  3\n",
      "Type =  object\n",
      "-------------------------\n",
      "Insureds Name\n",
      "Unique =  36631\n",
      "Type =  object\n",
      "-------------------------\n",
      "Insureds Birth Date\n",
      "Unique =  19628\n",
      "Type =  object\n",
      "-------------------------\n",
      "Insureds Age\n",
      "Unique =  1006\n",
      "Type =  float64\n",
      "-------------------------\n",
      "Insureds Gender\n",
      "Unique =  2\n",
      "Type =  object\n",
      "-------------------------\n",
      "Insureds Address Line\n",
      "Unique =  26269\n",
      "Type =  object\n",
      "-------------------------\n",
      "Insureds City\n",
      "Unique =  1878\n",
      "Type =  object\n",
      "-------------------------\n",
      "Insureds State\n",
      "Unique =  56\n",
      "Type =  object\n",
      "-------------------------\n",
      "Insureds Zip\n",
      "Unique =  3339\n",
      "Type =  float64\n",
      "-------------------------\n",
      "Insured's Income\n",
      "Unique =  3004\n",
      "Type =  float64\n",
      "-------------------------\n",
      "Owners Customer Status\n",
      "Unique =  4\n",
      "Type =  object\n",
      "-------------------------\n",
      "Owners Death Status\n",
      "Unique =  4\n",
      "Type =  object\n",
      "-------------------------\n",
      "Owners Name\n",
      "Unique =  33479\n",
      "Type =  object\n",
      "-------------------------\n",
      "Owners Birth Date\n",
      "Unique =  15844\n",
      "Type =  object\n",
      "-------------------------\n",
      "Owners Age\n",
      "Unique =  831\n",
      "Type =  float64\n",
      "-------------------------\n",
      "Owners Gender\n",
      "Unique =  3\n",
      "Type =  object\n",
      "-------------------------\n",
      "Owners Address Line\n",
      "Unique =  26657\n",
      "Type =  object\n",
      "-------------------------\n",
      "Owners City\n",
      "Unique =  1907\n",
      "Type =  object\n",
      "-------------------------\n",
      "Owners State\n",
      "Unique =  56\n",
      "Type =  object\n",
      "-------------------------\n",
      "Owners Zip\n",
      "Unique =  3386\n",
      "Type =  float64\n",
      "-------------------------\n",
      "Owner's Income\n",
      "Unique =  3038\n",
      "Type =  float64\n",
      "-------------------------\n",
      "Servicing Agent 1\n",
      "Unique =  808\n",
      "Type =  object\n",
      "-------------------------\n",
      "Writing Agent 1\n",
      "Unique =  2980\n",
      "Type =  object\n",
      "-------------------------\n"
     ]
    }
   ],
   "source": [
    "for i in data.columns:\n",
    "    print(i)\n",
    "    print(\"Unique = \", data[i].value_counts().count())\n",
    "    print('Type = ', data[i].dtype)\n",
    "    print(\"-------------------------\")"
   ]
  },
  {
   "cell_type": "code",
   "execution_count": 593,
   "metadata": {},
   "outputs": [],
   "source": [
    "# data.apply(preprocessing.LabelEncoder().fit_transform)"
   ]
  },
  {
   "cell_type": "code",
   "execution_count": 594,
   "metadata": {},
   "outputs": [],
   "source": [
    "data = data[d_columns]\n",
    "data = data.dropna()\n",
    "data = data.reset_index(drop=True)"
   ]
  },
  {
   "cell_type": "code",
   "execution_count": 595,
   "metadata": {},
   "outputs": [],
   "source": [
    "if not use_hot_encoding:\n",
    "    le = preprocessing.LabelEncoder()\n",
    "    for col in data.columns:\n",
    "        if data[col].dtype == object:\n",
    "            data[col] = le.fit_transform(data[col].values)\n",
    "else:\n",
    "    data['Product Name'] = le.fit_transform(data['Product Name'].values)\n",
    "    data = pd.get_dummies(data)"
   ]
  },
  {
   "cell_type": "code",
   "execution_count": 596,
   "metadata": {},
   "outputs": [],
   "source": [
    "for i in [20, 9]:\n",
    "    data = data.drop(data[data['Product Name'] == i].index)\n",
    "    \n",
    "X = data.iloc[:,data.columns != 'Product Name']\n",
    "y = data['Product Name']\n",
    "# smote = imblearn.over_sampling.SMOTE()\n",
    "# X, y = smote.fit_resample(X, y)\n",
    "X_train, X_test, y_train, y_test =  train_test_split(X, y, test_size=0.33, random_state=42)"
   ]
  },
  {
   "cell_type": "code",
   "execution_count": 597,
   "metadata": {},
   "outputs": [
    {
     "data": {
      "text/plain": [
       "KNeighborsClassifier(algorithm='auto', leaf_size=30, metric='minkowski',\n",
       "                     metric_params=None, n_jobs=None, n_neighbors=10, p=2,\n",
       "                     weights='uniform')"
      ]
     },
     "execution_count": 597,
     "metadata": {},
     "output_type": "execute_result"
    }
   ],
   "source": [
    "neigh = KNeighborsClassifier(n_neighbors=10)\n",
    "neigh.fit(X_train, y_train)"
   ]
  },
  {
   "cell_type": "code",
   "execution_count": 598,
   "metadata": {},
   "outputs": [],
   "source": [
    "y_pred = neigh.predict(X_test)"
   ]
  },
  {
   "cell_type": "code",
   "execution_count": 599,
   "metadata": {},
   "outputs": [
    {
     "name": "stdout",
     "output_type": "stream",
     "text": [
      "              precision    recall  f1-score   support\n",
      "\n",
      "           0       0.11      0.03      0.05       409\n",
      "           1       0.00      0.00      0.00        48\n",
      "           2       0.89      0.95      0.92      1382\n",
      "           3       0.00      0.00      0.00       120\n",
      "           4       0.09      0.02      0.03       241\n",
      "           5       0.00      0.00      0.00        14\n",
      "           6       0.30      0.28      0.29       292\n",
      "           7       0.34      0.40      0.37       126\n",
      "           8       0.06      0.02      0.03       116\n",
      "          10       0.00      0.00      0.00         7\n",
      "          11       0.62      0.85      0.71      2086\n",
      "          12       0.35      0.34      0.34      2075\n",
      "          13       0.00      0.00      0.00         8\n",
      "          14       0.11      0.05      0.07        38\n",
      "          15       0.00      0.00      0.00        49\n",
      "          16       0.00      0.00      0.00        27\n",
      "          17       0.00      0.00      0.00         9\n",
      "          18       0.92      0.94      0.93       674\n",
      "          19       0.00      0.00      0.00         1\n",
      "          21       0.00      0.00      0.00        29\n",
      "          22       0.24      0.16      0.19       876\n",
      "          23       1.00      0.92      0.96        13\n",
      "          24       0.34      0.19      0.24       879\n",
      "          25       0.84      0.89      0.87       809\n",
      "          26       0.21      0.09      0.13       565\n",
      "          27       0.54      0.69      0.61      4060\n",
      "          28       0.00      0.00      0.00        10\n",
      "          29       0.50      0.16      0.24        58\n",
      "          30       0.00      0.00      0.00        49\n",
      "\n",
      "    accuracy                           0.56     15070\n",
      "   macro avg       0.26      0.24      0.24     15070\n",
      "weighted avg       0.51      0.56      0.53     15070\n",
      "\n"
     ]
    },
    {
     "name": "stderr",
     "output_type": "stream",
     "text": [
      "/home/muhammadumar/anaconda3/envs/ml_env/lib/python3.6/site-packages/sklearn/metrics/_classification.py:1272: UndefinedMetricWarning: Precision and F-score are ill-defined and being set to 0.0 in labels with no predicted samples. Use `zero_division` parameter to control this behavior.\n",
      "  _warn_prf(average, modifier, msg_start, len(result))\n"
     ]
    }
   ],
   "source": [
    "print(classification_report(y_test, y_pred, target_names = [str(integer) for integer in neigh.classes_]))"
   ]
  },
  {
   "cell_type": "code",
   "execution_count": 600,
   "metadata": {},
   "outputs": [
    {
     "data": {
      "text/plain": [
       "0.5621765096217651"
      ]
     },
     "execution_count": 600,
     "metadata": {},
     "output_type": "execute_result"
    }
   ],
   "source": [
    "accuracy_score(y_test, y_pred)"
   ]
  },
  {
   "cell_type": "code",
   "execution_count": 601,
   "metadata": {},
   "outputs": [
    {
     "data": {
      "text/plain": [
       "27    12499\n",
       "12     6281\n",
       "11     6104\n",
       "2      4034\n",
       "22     2744\n",
       "24     2639\n",
       "25     2621\n",
       "18     2005\n",
       "26     1742\n",
       "0      1216\n",
       "6       942\n",
       "4       704\n",
       "7       384\n",
       "3       373\n",
       "8       358\n",
       "29      179\n",
       "15      174\n",
       "30      123\n",
       "14      122\n",
       "1       106\n",
       "21       67\n",
       "16       66\n",
       "28       36\n",
       "5        35\n",
       "13       31\n",
       "23       31\n",
       "10       24\n",
       "17       18\n",
       "19        6\n",
       "Name: Product Name, dtype: int64"
      ]
     },
     "execution_count": 601,
     "metadata": {},
     "output_type": "execute_result"
    },
    {
     "data": {
      "image/png": "[encoded data removed]",
      "text/plain": [
       "<Figure size 432x288 with 1 Axes>"
      ]
     },
     "metadata": {
      "needs_background": "light"
     },
     "output_type": "display_data"
    }
   ],
   "source": [
    "ax = sns.countplot(y,label=\"Product Name\") \n",
    "data['Product Name'].value_counts()"
   ]
  },
  {
   "cell_type": "code",
   "execution_count": 602,
   "metadata": {},
   "outputs": [
    {
     "data": {
      "text/plain": [
       "array([ 0,  1,  2,  3,  4,  5,  6,  7,  8, 10, 11, 12, 13, 14, 15, 16, 17,\n",
       "       18, 19, 21, 22, 23, 24, 25, 26, 27, 28, 29, 30])"
      ]
     },
     "execution_count": 602,
     "metadata": {},
     "output_type": "execute_result"
    }
   ],
   "source": [
    "unique(data['Product Name'])"
   ]
  },
  {
   "cell_type": "code",
   "execution_count": 603,
   "metadata": {},
   "outputs": [
    {
     "name": "stdout",
     "output_type": "stream",
     "text": [
      "Help on SMOTE in module imblearn.over_sampling._smote object:\n",
      "\n",
      "class SMOTE(BaseSMOTE)\n",
      " |  Class to perform over-sampling using SMOTE.\n",
      " |  \n",
      " |  This object is an implementation of SMOTE - Synthetic Minority\n",
      " |  Over-sampling Technique as presented in [1]_.\n",
      " |  \n",
      " |  Read more in the :ref:`User Guide <smote_adasyn>`.\n",
      " |  \n",
      " |  Parameters\n",
      " |  ----------\n",
      " |  sampling_strategy : float, str, dict or callable, default='auto'\n",
      " |      Sampling information to resample the data set.\n",
      " |  \n",
      " |      - When ``float``, it corresponds to the desired ratio of the number of\n",
      " |        samples in the minority class over the number of samples in the\n",
      " |        majority class after resampling. Therefore, the ratio is expressed as\n",
      " |        :math:`\\alpha_{os} = N_{rm} / N_{M}` where :math:`N_{rm}` is the\n",
      " |        number of samples in the minority class after resampling and\n",
      " |        :math:`N_{M}` is the number of samples in the majority class.\n",
      " |  \n",
      " |          .. warning::\n",
      " |             ``float`` is only available for **binary** classification. An\n",
      " |             error is raised for multi-class classification.\n",
      " |  \n",
      " |      - When ``str``, specify the class targeted by the resampling. The\n",
      " |        number of samples in the different classes will be equalized.\n",
      " |        Possible choices are:\n",
      " |  \n",
      " |          ``'minority'``: resample only the minority class;\n",
      " |  \n",
      " |          ``'not minority'``: resample all classes but the minority class;\n",
      " |  \n",
      " |          ``'not majority'``: resample all classes but the majority class;\n",
      " |  \n",
      " |          ``'all'``: resample all classes;\n",
      " |  \n",
      " |          ``'auto'``: equivalent to ``'not majority'``.\n",
      " |  \n",
      " |      - When ``dict``, the keys correspond to the targeted classes. The\n",
      " |        values correspond to the desired number of samples for each targeted\n",
      " |        class.\n",
      " |  \n",
      " |      - When callable, function taking ``y`` and returns a ``dict``. The keys\n",
      " |        correspond to the targeted classes. The values correspond to the\n",
      " |        desired number of samples for each class.\n",
      " |  \n",
      " |  random_state : int, RandomState instance, default=None\n",
      " |      Control the randomization of the algorithm.\n",
      " |  \n",
      " |      - If int, ``random_state`` is the seed used by the random number\n",
      " |        generator;\n",
      " |      - If ``RandomState`` instance, random_state is the random number\n",
      " |        generator;\n",
      " |      - If ``None``, the random number generator is the ``RandomState``\n",
      " |        instance used by ``np.random``.\n",
      " |  \n",
      " |  k_neighbors : int or object, default=5\n",
      " |      If ``int``, number of nearest neighbours to used to construct synthetic\n",
      " |      samples.  If object, an estimator that inherits from\n",
      " |      :class:`sklearn.neighbors.base.KNeighborsMixin` that will be used to\n",
      " |      find the k_neighbors.\n",
      " |  \n",
      " |  n_jobs : int, default=None\n",
      " |      Number of CPU cores used during the cross-validation loop.\n",
      " |      ``None`` means 1 unless in a :obj:`joblib.parallel_backend` context.\n",
      " |      ``-1`` means using all processors. See\n",
      " |      `Glossary <https://scikit-learn.org/stable/glossary.html#term-n-jobs>`_\n",
      " |      for more details.\n",
      " |  \n",
      " |  See Also\n",
      " |  --------\n",
      " |  SMOTENC : Over-sample using SMOTE for continuous and categorical features.\n",
      " |  \n",
      " |  BorderlineSMOTE : Over-sample using the borderline-SMOTE variant.\n",
      " |  \n",
      " |  SVMSMOTE : Over-sample using the SVM-SMOTE variant.\n",
      " |  \n",
      " |  ADASYN : Over-sample using ADASYN.\n",
      " |  \n",
      " |  KMeansSMOTE : Over-sample applying a clustering before to oversample using\n",
      " |      SMOTE.\n",
      " |  \n",
      " |  Notes\n",
      " |  -----\n",
      " |  See the original papers: [1]_ for more details.\n",
      " |  \n",
      " |  Supports multi-class resampling. A one-vs.-rest scheme is used as\n",
      " |  originally proposed in [1]_.\n",
      " |  \n",
      " |  References\n",
      " |  ----------\n",
      " |  .. [1] N. V. Chawla, K. W. Bowyer, L. O.Hall, W. P. Kegelmeyer, \"SMOTE:\n",
      " |     synthetic minority over-sampling technique,\" Journal of artificial\n",
      " |     intelligence research, 321-357, 2002.\n",
      " |  \n",
      " |  Examples\n",
      " |  --------\n",
      " |  \n",
      " |  >>> from collections import Counter\n",
      " |  >>> from sklearn.datasets import make_classification\n",
      " |  >>> from imblearn.over_sampling import SMOTE # doctest: +NORMALIZE_WHITESPACE\n",
      " |  >>> X, y = make_classification(n_classes=2, class_sep=2,\n",
      " |  ... weights=[0.1, 0.9], n_informative=3, n_redundant=1, flip_y=0,\n",
      " |  ... n_features=20, n_clusters_per_class=1, n_samples=1000, random_state=10)\n",
      " |  >>> print('Original dataset shape %s' % Counter(y))\n",
      " |  Original dataset shape Counter({1: 900, 0: 100})\n",
      " |  >>> sm = SMOTE(random_state=42)\n",
      " |  >>> X_res, y_res = sm.fit_resample(X, y)\n",
      " |  >>> print('Resampled dataset shape %s' % Counter(y_res))\n",
      " |  Resampled dataset shape Counter({0: 900, 1: 900})\n",
      " |  \n",
      " |  Method resolution order:\n",
      " |      SMOTE\n",
      " |      BaseSMOTE\n",
      " |      imblearn.over_sampling.base.BaseOverSampler\n",
      " |      imblearn.base.BaseSampler\n",
      " |      imblearn.base.SamplerMixin\n",
      " |      sklearn.base.BaseEstimator\n",
      " |      builtins.object\n",
      " |  \n",
      " |  Methods defined here:\n",
      " |  \n",
      " |  __init__(self, sampling_strategy='auto', random_state=None, k_neighbors=5, n_jobs=None)\n",
      " |      Initialize self.  See help(type(self)) for accurate signature.\n",
      " |  \n",
      " |  ----------------------------------------------------------------------\n",
      " |  Data and other attributes defined here:\n",
      " |  \n",
      " |  __abstractmethods__ = frozenset()\n",
      " |  \n",
      " |  ----------------------------------------------------------------------\n",
      " |  Methods inherited from imblearn.base.SamplerMixin:\n",
      " |  \n",
      " |  fit(self, X, y)\n",
      " |      Check inputs and statistics of the sampler.\n",
      " |      \n",
      " |      You should use ``fit_resample`` in all cases.\n",
      " |      \n",
      " |      Parameters\n",
      " |      ----------\n",
      " |      X : {array-like, dataframe, sparse matrix} of shape                 (n_samples, n_features)\n",
      " |          Data array.\n",
      " |      \n",
      " |      y : array-like of shape (n_samples,)\n",
      " |          Target array.\n",
      " |      \n",
      " |      Returns\n",
      " |      -------\n",
      " |      self : object\n",
      " |          Return the instance itself.\n",
      " |  \n",
      " |  fit_resample(self, X, y)\n",
      " |      Resample the dataset.\n",
      " |      \n",
      " |      Parameters\n",
      " |      ----------\n",
      " |      X : {array-like, dataframe, sparse matrix} of shape                 (n_samples, n_features)\n",
      " |          Matrix containing the data which have to be sampled.\n",
      " |      \n",
      " |      y : array-like of shape (n_samples,)\n",
      " |          Corresponding label for each sample in X.\n",
      " |      \n",
      " |      Returns\n",
      " |      -------\n",
      " |      X_resampled : {array-like, dataframe, sparse matrix} of shape                 (n_samples_new, n_features)\n",
      " |          The array containing the resampled data.\n",
      " |      \n",
      " |      y_resampled : array-like of shape (n_samples_new,)\n",
      " |          The corresponding label of `X_resampled`.\n",
      " |  \n",
      " |  fit_sample = fit_resample(self, X, y)\n",
      " |  \n",
      " |  ----------------------------------------------------------------------\n",
      " |  Methods inherited from sklearn.base.BaseEstimator:\n",
      " |  \n",
      " |  __getstate__(self)\n",
      " |  \n",
      " |  __repr__(self, N_CHAR_MAX=700)\n",
      " |      Return repr(self).\n",
      " |  \n",
      " |  __setstate__(self, state)\n",
      " |  \n",
      " |  get_params(self, deep=True)\n",
      " |      Get parameters for this estimator.\n",
      " |      \n",
      " |      Parameters\n",
      " |      ----------\n",
      " |      deep : bool, default=True\n",
      " |          If True, will return the parameters for this estimator and\n",
      " |          contained subobjects that are estimators.\n",
      " |      \n",
      " |      Returns\n",
      " |      -------\n",
      " |      params : mapping of string to any\n",
      " |          Parameter names mapped to their values.\n",
      " |  \n",
      " |  set_params(self, **params)\n",
      " |      Set the parameters of this estimator.\n",
      " |      \n",
      " |      The method works on simple estimators as well as on nested objects\n",
      " |      (such as pipelines). The latter have parameters of the form\n",
      " |      ``<component>__<parameter>`` so that it's possible to update each\n",
      " |      component of a nested object.\n",
      " |      \n",
      " |      Parameters\n",
      " |      ----------\n",
      " |      **params : dict\n",
      " |          Estimator parameters.\n",
      " |      \n",
      " |      Returns\n",
      " |      -------\n",
      " |      self : object\n",
      " |          Estimator instance.\n",
      " |  \n",
      " |  ----------------------------------------------------------------------\n",
      " |  Data descriptors inherited from sklearn.base.BaseEstimator:\n",
      " |  \n",
      " |  __dict__\n",
      " |      dictionary for instance variables (if defined)\n",
      " |  \n",
      " |  __weakref__\n",
      " |      list of weak references to the object (if defined)\n",
      "\n"
     ]
    }
   ],
   "source": [
    "help(imblearn.over_sampling.SMOTE())"
   ]
  },
  {
   "cell_type": "code",
   "execution_count": 604,
   "metadata": {},
   "outputs": [
    {
     "data": {
      "text/plain": [
       "False"
      ]
     },
     "execution_count": 604,
     "metadata": {},
     "output_type": "execute_result"
    }
   ],
   "source": [
    "data['Product Name'].dtype == object"
   ]
  },
  {
   "cell_type": "code",
   "execution_count": null,
   "metadata": {},
   "outputs": [],
   "source": [
    "from xgboost import XGBClassifier\n",
    "from xgboost import plot_importance\n",
    "model = XGBClassifier()\n",
    "model.fit(X_train,y_train)\n",
    "plot_importance(model)\n",
    "plt.show()\n",
    "y_pred = model.predict(X_test)\n",
    "target_names = [str(integer) for integer in neigh.classes_]\n",
    "print(classification_report(y_test, y_pred, target_names=target_names))"
   ]
  },
  {
   "cell_type": "code",
   "execution_count": null,
   "metadata": {},
   "outputs": [],
   "source": []
  }
 ],
 "metadata": {
  "kernelspec": {
   "display_name": "Python 3",
   "language": "python",
   "name": "python3"
  },
  "language_info": {
   "codemirror_mode": {
    "name": "ipython",
    "version": 3
   },
   "file_extension": ".py",
   "mimetype": "text/x-python",
   "name": "python",
   "nbconvert_exporter": "python",
   "pygments_lexer": "ipython3",
   "version": "3.6.10"
  }
 },
 "nbformat": 4,
 "nbformat_minor": 4
}
